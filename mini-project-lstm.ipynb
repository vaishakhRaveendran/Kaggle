{
 "cells": [
  {
   "cell_type": "code",
   "execution_count": 1,
   "id": "94fc4673",
   "metadata": {
    "_cell_guid": "b1076dfc-b9ad-4769-8c92-a6c4dae69d19",
    "_uuid": "8f2839f25d086af736a60e9eeb907d3b93b6e0e5",
    "execution": {
     "iopub.execute_input": "2024-03-08T05:20:21.885037Z",
     "iopub.status.busy": "2024-03-08T05:20:21.884101Z",
     "iopub.status.idle": "2024-03-08T05:20:22.749727Z",
     "shell.execute_reply": "2024-03-08T05:20:22.748600Z"
    },
    "papermill": {
     "duration": 0.873232,
     "end_time": "2024-03-08T05:20:22.752428",
     "exception": false,
     "start_time": "2024-03-08T05:20:21.879196",
     "status": "completed"
    },
    "tags": []
   },
   "outputs": [
    {
     "name": "stdout",
     "output_type": "stream",
     "text": [
      "/kaggle/input/malyalam-news-dataset/valid.csv\n",
      "/kaggle/input/malyalam-news-dataset/train.csv\n"
     ]
    }
   ],
   "source": [
    "# This Python 3 environment comes with many helpful analytics libraries installed\n",
    "# It is defined by the kaggle/python Docker image: https://github.com/kaggle/docker-python\n",
    "# For example, here's several helpful packages to load\n",
    "\n",
    "import numpy as np # linear algebra\n",
    "import pandas as pd # data processing, CSV file I/O (e.g. pd.read_csv)\n",
    "\n",
    "# Input data files are available in the read-only \"../input/\" directory\n",
    "# For example, running this (by clicking run or pressing Shift+Enter) will list all files under the input directory\n",
    "\n",
    "import os\n",
    "for dirname, _, filenames in os.walk('/kaggle/input'):\n",
    "    for filename in filenames:\n",
    "        print(os.path.join(dirname, filename))\n",
    "\n",
    "# You can write up to 20GB to the current directory (/kaggle/working/) that gets preserved as output when you create a version using \"Save & Run All\" \n",
    "# You can also write temporary files to /kaggle/temp/, but they won't be saved outside of the current session"
   ]
  },
  {
   "cell_type": "code",
   "execution_count": 2,
   "id": "c14a7feb",
   "metadata": {
    "execution": {
     "iopub.execute_input": "2024-03-08T05:20:22.762060Z",
     "iopub.status.busy": "2024-03-08T05:20:22.761539Z",
     "iopub.status.idle": "2024-03-08T05:20:37.184726Z",
     "shell.execute_reply": "2024-03-08T05:20:37.182746Z"
    },
    "papermill": {
     "duration": 14.432086,
     "end_time": "2024-03-08T05:20:37.187821",
     "exception": false,
     "start_time": "2024-03-08T05:20:22.755735",
     "status": "completed"
    },
    "tags": []
   },
   "outputs": [],
   "source": [
    "import tensorflow as tf\n",
    "import tensorflow_hub as hub\n",
    "import tensorflow_text as text\n",
    "import matplotlib.pyplot as plt\n",
    "tf.get_logger().setLevel('ERROR')"
   ]
  },
  {
   "cell_type": "code",
   "execution_count": 3,
   "id": "9680bd73",
   "metadata": {
    "execution": {
     "iopub.execute_input": "2024-03-08T05:20:37.196291Z",
     "iopub.status.busy": "2024-03-08T05:20:37.195564Z",
     "iopub.status.idle": "2024-03-08T05:20:37.274339Z",
     "shell.execute_reply": "2024-03-08T05:20:37.273176Z"
    },
    "papermill": {
     "duration": 0.085868,
     "end_time": "2024-03-08T05:20:37.276916",
     "exception": false,
     "start_time": "2024-03-08T05:20:37.191048",
     "status": "completed"
    },
    "tags": []
   },
   "outputs": [],
   "source": [
    "#Read dataset\n",
    "FILEPATH='/kaggle/input/malyalam-news-dataset'\n",
    "df_train=pd.read_csv(os.path.join(FILEPATH,'train.csv'))\n",
    "df_valid=pd.read_csv(os.path.join(FILEPATH,'valid.csv'))"
   ]
  },
  {
   "cell_type": "code",
   "execution_count": 4,
   "id": "9364f53a",
   "metadata": {
    "execution": {
     "iopub.execute_input": "2024-03-08T05:20:37.285048Z",
     "iopub.status.busy": "2024-03-08T05:20:37.284667Z",
     "iopub.status.idle": "2024-03-08T05:20:38.316493Z",
     "shell.execute_reply": "2024-03-08T05:20:38.315040Z"
    },
    "papermill": {
     "duration": 1.040056,
     "end_time": "2024-03-08T05:20:38.320139",
     "exception": false,
     "start_time": "2024-03-08T05:20:37.280083",
     "status": "completed"
    },
    "tags": []
   },
   "outputs": [],
   "source": [
    "#PREPROCESSING STEPS\n",
    "from sklearn import preprocessing \n",
    "COLUMNS = df_train.columns.str.upper().to_list()\n",
    "df_train.columns=COLUMNS\n",
    "df_valid.columns=COLUMNS\n",
    "label_encoder = preprocessing.LabelEncoder()  \n",
    "# Encode labels in column 'species'. \n",
    "df_train['LABEL']= label_encoder.fit_transform(df_train['LABEL']) \n",
    "df_valid['LABEL']= label_encoder.transform(df_valid['LABEL']) "
   ]
  },
  {
   "cell_type": "code",
   "execution_count": 5,
   "id": "4c53178d",
   "metadata": {
    "execution": {
     "iopub.execute_input": "2024-03-08T05:20:38.328962Z",
     "iopub.status.busy": "2024-03-08T05:20:38.328291Z",
     "iopub.status.idle": "2024-03-08T05:20:38.347811Z",
     "shell.execute_reply": "2024-03-08T05:20:38.346594Z"
    },
    "papermill": {
     "duration": 0.02734,
     "end_time": "2024-03-08T05:20:38.350846",
     "exception": false,
     "start_time": "2024-03-08T05:20:38.323506",
     "status": "completed"
    },
    "tags": []
   },
   "outputs": [],
   "source": [
    "#Defining the train and validation dataset.\n",
    "X_train, X_test, y_train, y_test = df_train[['HEADINGS']],df_valid[['HEADINGS']],df_train[['LABEL']],df_valid[['LABEL']]\n",
    "y_train=np.array(y_train).astype('int').reshape((-1,1))\n",
    "y_test=np.array(y_test).astype('int').reshape((-1,1))\n",
    "\n",
    "y_train = tf.keras.utils.to_categorical(y_train)\n",
    "y_test= tf.keras.utils.to_categorical(y_test)"
   ]
  },
  {
   "cell_type": "code",
   "execution_count": 6,
   "id": "2b8653a8",
   "metadata": {
    "execution": {
     "iopub.execute_input": "2024-03-08T05:20:38.360539Z",
     "iopub.status.busy": "2024-03-08T05:20:38.360131Z",
     "iopub.status.idle": "2024-03-08T05:21:17.510757Z",
     "shell.execute_reply": "2024-03-08T05:21:17.509156Z"
    },
    "papermill": {
     "duration": 39.164153,
     "end_time": "2024-03-08T05:21:17.519005",
     "exception": false,
     "start_time": "2024-03-08T05:20:38.354852",
     "status": "completed"
    },
    "tags": []
   },
   "outputs": [
    {
     "name": "stdout",
     "output_type": "stream",
     "text": [
      "Model: \"model\"\n",
      "__________________________________________________________________________________________________\n",
      " Layer (type)                Output Shape                 Param #   Connected to                  \n",
      "==================================================================================================\n",
      " text_input (InputLayer)     [(None,)]                    0         []                            \n",
      "                                                                                                  \n",
      " keras_layer (KerasLayer)    {'input_word_ids': (None,    0         ['text_input[0][0]']          \n",
      "                             128),                                                                \n",
      "                              'input_type_ids': (None,                                            \n",
      "                             128),                                                                \n",
      "                              'input_mask': (None, 128)                                           \n",
      "                             }                                                                    \n",
      "                                                                                                  \n",
      " keras_layer_1 (KerasLayer)  {'sequence_output': (None,   4709268   ['keras_layer[0][0]',         \n",
      "                              128, 768),                  49         'keras_layer[0][1]',         \n",
      "                              'pooled_output': (None, 7              'keras_layer[0][2]']         \n",
      "                             68),                                                                 \n",
      "                              'default': (None, 768),                                             \n",
      "                              'encoder_outputs': [(None                                           \n",
      "                             , 128, 768),                                                         \n",
      "                              (None, 128, 768),                                                   \n",
      "                              (None, 128, 768),                                                   \n",
      "                              (None, 128, 768),                                                   \n",
      "                              (None, 128, 768),                                                   \n",
      "                              (None, 128, 768),                                                   \n",
      "                              (None, 128, 768),                                                   \n",
      "                              (None, 128, 768),                                                   \n",
      "                              (None, 128, 768),                                                   \n",
      "                              (None, 128, 768),                                                   \n",
      "                              (None, 128, 768),                                                   \n",
      "                              (None, 128, 768)]}                                                  \n",
      "                                                                                                  \n",
      " lstm (LSTM)                 (None, 64)                   213248    ['keras_layer_1[0][14]']      \n",
      "                                                                                                  \n",
      " output (Dense)              (None, 3)                    195       ['lstm[0][0]']                \n",
      "                                                                                                  \n",
      "==================================================================================================\n",
      "Total params: 471140292 (1.76 GB)\n",
      "Trainable params: 213443 (833.76 KB)\n",
      "Non-trainable params: 470926849 (1.75 GB)\n",
      "__________________________________________________________________________________________________\n"
     ]
    }
   ],
   "source": [
    "import tensorflow as tf\n",
    "from tensorflow import keras\n",
    "from tensorflow.keras import regularizers,layers,Input,Model\n",
    "from tensorflow.keras.models import Sequential\n",
    "from tensorflow.keras.layers import TextVectorization,Conv1D, MaxPooling1D, LSTM, Bidirectional, Dense, BatchNormalization, Dropout\n",
    "\n",
    "#Custom CallBack and Scheduler\n",
    "early_stopping = tf.keras.callbacks.EarlyStopping(\n",
    "    patience=15,\n",
    "    min_delta=0.001,\n",
    "    restore_best_weights=True,\n",
    ")\n",
    "\n",
    "lr_schedule = tf.keras.optimizers.schedules.InverseTimeDecay(\n",
    "  0.001,\n",
    "  decay_steps=X_train.shape[0]*20,\n",
    "  decay_rate=1,\n",
    "  staircase=False)\n",
    "\n",
    "\n",
    "def tf_model():\n",
    "    # Input layer\n",
    "    input_layer = Input(shape=(), dtype=tf.string, name='text_input')\n",
    "\n",
    "    # Preprocessor layer\n",
    "    preprocessor_layer = hub.KerasLayer(\n",
    "        \"https://tfhub.dev/google/universal-sentence-encoder-cmlm/multilingual-preprocess/2\"\n",
    "    )\n",
    "    preprocessed_text = preprocessor_layer(input_layer)\n",
    "\n",
    "    # Encoder layer\n",
    "    encoder_layer = hub.KerasLayer(\n",
    "        \"https://tfhub.dev/google/LaBSE/2\",\n",
    "        trainable=False\n",
    "    )\n",
    "\n",
    "    embedded_text = encoder_layer(preprocessed_text)[\"sequence_output\"]\n",
    "    # Pass the embeddings through LSTM layer\n",
    "    lstm_layer = tf.keras.layers.LSTM(units=64,return_sequences=False)\n",
    "    lstm_output = lstm_layer(embedded_text)\n",
    "    # For example, add a Dense layer for classification\n",
    "    output_layer = layers.Dense(units=3, activation='softmax', name='output')(lstm_output)\n",
    "\n",
    "    \n",
    "    # Create the model\n",
    "    model = Model(inputs=input_layer, outputs=output_layer)\n",
    "\n",
    "    return model\n",
    "\n",
    "# Create the model\n",
    "model = tf_model()\n",
    "\n",
    "# Display the model summary\n",
    "model.summary()"
   ]
  },
  {
   "cell_type": "code",
   "execution_count": 7,
   "id": "a98a3042",
   "metadata": {
    "execution": {
     "iopub.execute_input": "2024-03-08T05:21:17.533994Z",
     "iopub.status.busy": "2024-03-08T05:21:17.533327Z",
     "iopub.status.idle": "2024-03-08T05:21:17.567046Z",
     "shell.execute_reply": "2024-03-08T05:21:17.565771Z"
    },
    "papermill": {
     "duration": 0.045886,
     "end_time": "2024-03-08T05:21:17.570488",
     "exception": false,
     "start_time": "2024-03-08T05:21:17.524602",
     "status": "completed"
    },
    "tags": []
   },
   "outputs": [],
   "source": [
    "model.compile(\n",
    "        optimizer=tf.keras.optimizers.Adam(learning_rate=lr_schedule),\n",
    "        loss='binary_crossentropy',\n",
    "        metrics=['acc']\n",
    ")"
   ]
  },
  {
   "cell_type": "code",
   "execution_count": 8,
   "id": "2cd2ccc1",
   "metadata": {
    "execution": {
     "iopub.execute_input": "2024-03-08T05:21:17.585309Z",
     "iopub.status.busy": "2024-03-08T05:21:17.584857Z",
     "iopub.status.idle": "2024-03-08T12:02:58.255284Z",
     "shell.execute_reply": "2024-03-08T12:02:58.251285Z"
    },
    "papermill": {
     "duration": 24100.682156,
     "end_time": "2024-03-08T12:02:58.259381",
     "exception": false,
     "start_time": "2024-03-08T05:21:17.577225",
     "status": "completed"
    },
    "tags": []
   },
   "outputs": [
    {
     "name": "stdout",
     "output_type": "stream",
     "text": [
      "Epoch 1/15\n",
      "4/4 [==============================] - 1632s 406s/step - loss: 0.6156 - acc: 0.5220 - val_loss: 0.4992 - val_acc: 0.7151\n",
      "Epoch 2/15\n",
      "4/4 [==============================] - 1662s 421s/step - loss: 0.4431 - acc: 0.7929 - val_loss: 0.3654 - val_acc: 0.8341\n",
      "Epoch 3/15\n",
      "4/4 [==============================] - 1556s 396s/step - loss: 0.3189 - acc: 0.8771 - val_loss: 0.2779 - val_acc: 0.8603\n",
      "Epoch 4/15\n",
      "4/4 [==============================] - 1624s 416s/step - loss: 0.2357 - acc: 0.8963 - val_loss: 0.2261 - val_acc: 0.8770\n",
      "Epoch 5/15\n",
      "4/4 [==============================] - 1552s 397s/step - loss: 0.1863 - acc: 0.9106 - val_loss: 0.2054 - val_acc: 0.8849\n",
      "Epoch 6/15\n",
      "4/4 [==============================] - 1648s 420s/step - loss: 0.1594 - acc: 0.9196 - val_loss: 0.1931 - val_acc: 0.8897\n",
      "Epoch 7/15\n",
      "4/4 [==============================] - 1595s 402s/step - loss: 0.1444 - acc: 0.9279 - val_loss: 0.1872 - val_acc: 0.8944\n",
      "Epoch 8/15\n",
      "4/4 [==============================] - 1604s 415s/step - loss: 0.1307 - acc: 0.9333 - val_loss: 0.1797 - val_acc: 0.9016\n",
      "Epoch 9/15\n",
      "4/4 [==============================] - 1605s 417s/step - loss: 0.1210 - acc: 0.9384 - val_loss: 0.1761 - val_acc: 0.8984\n",
      "Epoch 10/15\n",
      "4/4 [==============================] - 1596s 403s/step - loss: 0.1158 - acc: 0.9412 - val_loss: 0.1704 - val_acc: 0.9008\n",
      "Epoch 11/15\n",
      "4/4 [==============================] - 1596s 406s/step - loss: 0.1103 - acc: 0.9454 - val_loss: 0.1703 - val_acc: 0.9000\n",
      "Epoch 12/15\n",
      "4/4 [==============================] - 1649s 420s/step - loss: 0.1008 - acc: 0.9506 - val_loss: 0.1681 - val_acc: 0.9056\n",
      "Epoch 13/15\n",
      "4/4 [==============================] - 1613s 403s/step - loss: 0.0947 - acc: 0.9515 - val_loss: 0.1702 - val_acc: 0.9063\n",
      "Epoch 14/15\n",
      "4/4 [==============================] - 1584s 400s/step - loss: 0.0932 - acc: 0.9541 - val_loss: 0.1733 - val_acc: 0.9032\n",
      "Epoch 15/15\n",
      "4/4 [==============================] - 1584s 406s/step - loss: 0.0878 - acc: 0.9587 - val_loss: 0.1718 - val_acc: 0.9032\n"
     ]
    },
    {
     "data": {
      "text/plain": [
       "<keras.src.callbacks.History at 0x7ca597d2f2b0>"
      ]
     },
     "execution_count": 8,
     "metadata": {},
     "output_type": "execute_result"
    }
   ],
   "source": [
    "model.fit(X_train,y_train,epochs=15,callbacks=[early_stopping],validation_data=[X_test,y_test],batch_size=1500)"
   ]
  },
  {
   "cell_type": "code",
   "execution_count": 9,
   "id": "46f42da9",
   "metadata": {
    "execution": {
     "iopub.execute_input": "2024-03-08T12:02:58.292788Z",
     "iopub.status.busy": "2024-03-08T12:02:58.291350Z",
     "iopub.status.idle": "2024-03-08T12:02:58.303338Z",
     "shell.execute_reply": "2024-03-08T12:02:58.302205Z"
    },
    "papermill": {
     "duration": 0.033567,
     "end_time": "2024-03-08T12:02:58.305906",
     "exception": false,
     "start_time": "2024-03-08T12:02:58.272339",
     "status": "completed"
    },
    "tags": []
   },
   "outputs": [
    {
     "data": {
      "text/plain": [
       "<keras.src.engine.functional.Functional at 0x7ca58a6741c0>"
      ]
     },
     "execution_count": 9,
     "metadata": {},
     "output_type": "execute_result"
    }
   ],
   "source": [
    "model\n"
   ]
  }
 ],
 "metadata": {
  "kaggle": {
   "accelerator": "none",
   "dataSources": [
    {
     "datasetId": 455772,
     "sourceId": 859599,
     "sourceType": "datasetVersion"
    }
   ],
   "dockerImageVersionId": 30579,
   "isGpuEnabled": false,
   "isInternetEnabled": true,
   "language": "python",
   "sourceType": "notebook"
  },
  "kernelspec": {
   "display_name": "Python 3",
   "language": "python",
   "name": "python3"
  },
  "language_info": {
   "codemirror_mode": {
    "name": "ipython",
    "version": 3
   },
   "file_extension": ".py",
   "mimetype": "text/x-python",
   "name": "python",
   "nbconvert_exporter": "python",
   "pygments_lexer": "ipython3",
   "version": "3.10.12"
  },
  "papermill": {
   "default_parameters": {},
   "duration": 24164.2087,
   "end_time": "2024-03-08T12:03:02.012101",
   "environment_variables": {},
   "exception": null,
   "input_path": "__notebook__.ipynb",
   "output_path": "__notebook__.ipynb",
   "parameters": {},
   "start_time": "2024-03-08T05:20:17.803401",
   "version": "2.4.0"
  }
 },
 "nbformat": 4,
 "nbformat_minor": 5
}
