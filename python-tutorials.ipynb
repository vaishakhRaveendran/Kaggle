{
 "cells": [
  {
   "cell_type": "code",
   "execution_count": 1,
   "id": "f310e3ee",
   "metadata": {
    "execution": {
     "iopub.execute_input": "2024-03-13T02:20:30.395363Z",
     "iopub.status.busy": "2024-03-13T02:20:30.394875Z",
     "iopub.status.idle": "2024-03-13T02:20:30.409924Z",
     "shell.execute_reply": "2024-03-13T02:20:30.408855Z"
    },
    "papermill": {
     "duration": 0.023904,
     "end_time": "2024-03-13T02:20:30.412768",
     "exception": false,
     "start_time": "2024-03-13T02:20:30.388864",
     "status": "completed"
    },
    "tags": []
   },
   "outputs": [
    {
     "name": "stdout",
     "output_type": "stream",
     "text": [
      "Hello mother fuckers\n",
      "hello world\n",
      "I kind of feeling burned out\n",
      "\n"
     ]
    }
   ],
   "source": [
    "#File Handling with python\n",
    "lst = ['hello world\\n', 'I kind of feeling burned out\\n']\n",
    "with open(\"/kaggle/working/neggies.txt\", encoding='utf-8', mode='a') as f:\n",
    "    f.write(\"Hello mother fuckers\\n\")\n",
    "    f.writelines(lst)\n",
    "\n",
    "# Reopen the file in read mode\n",
    "with open(\"/kaggle/working/neggies.txt\", encoding='utf-8', mode='r') as f:\n",
    "    l = f.read()\n",
    "    print(l)\n"
   ]
  },
  {
   "cell_type": "code",
   "execution_count": 2,
   "id": "d01b1846",
   "metadata": {
    "execution": {
     "iopub.execute_input": "2024-03-13T02:20:30.422427Z",
     "iopub.status.busy": "2024-03-13T02:20:30.422093Z",
     "iopub.status.idle": "2024-03-13T02:20:30.431120Z",
     "shell.execute_reply": "2024-03-13T02:20:30.430067Z"
    },
    "papermill": {
     "duration": 0.01675,
     "end_time": "2024-03-13T02:20:30.433787",
     "exception": false,
     "start_time": "2024-03-13T02:20:30.417037",
     "status": "completed"
    },
    "tags": []
   },
   "outputs": [
    {
     "name": "stdout",
     "output_type": "stream",
     "text": [
      "13 3\n",
      "12\n"
     ]
    },
    {
     "data": {
      "text/plain": [
       "datetime.timedelta(days=6, seconds=75600)"
      ]
     },
     "execution_count": 2,
     "metadata": {},
     "output_type": "execute_result"
    }
   ],
   "source": [
    "#Date time module in python\n",
    "from datetime import date,time,timedelta\n",
    "d=date.today()\n",
    "print(d.day,d.month)\n",
    "t=time(12,30,45)\n",
    "print(t.hour)\n",
    "#Time delta is used for calculating difference between date and represent as duration\n",
    "d1=timedelta(days=5)\n",
    "d2=timedelta(hours=45)\n",
    "d1+d2"
   ]
  },
  {
   "cell_type": "code",
   "execution_count": 3,
   "id": "00f7d6dd",
   "metadata": {
    "execution": {
     "iopub.execute_input": "2024-03-13T02:20:30.443728Z",
     "iopub.status.busy": "2024-03-13T02:20:30.443145Z",
     "iopub.status.idle": "2024-03-13T02:20:30.449933Z",
     "shell.execute_reply": "2024-03-13T02:20:30.448782Z"
    },
    "papermill": {
     "duration": 0.013969,
     "end_time": "2024-03-13T02:20:30.451928",
     "exception": false,
     "start_time": "2024-03-13T02:20:30.437959",
     "status": "completed"
    },
    "tags": []
   },
   "outputs": [
    {
     "name": "stdout",
     "output_type": "stream",
     "text": [
      "['chelsea', 'barcelona', 'aston villa', 'Manchester united']\n",
      "{0: 0, 1: 1, 2: 4, 3: 9, 4: 16, 5: 25, 6: 36, 7: 49}\n"
     ]
    }
   ],
   "source": [
    "clubs = ['Manchester united', 'chelsea', 'aston villa', 'barcelona']\n",
    "clubs.sort(key=lambda x: len(x))#sort is a inplace function\n",
    "print(clubs)\n",
    "d={x:x**2 for x in range(0,8)}\n",
    "print(d)"
   ]
  },
  {
   "cell_type": "code",
   "execution_count": 4,
   "id": "0b05d769",
   "metadata": {
    "execution": {
     "iopub.execute_input": "2024-03-13T02:20:30.462540Z",
     "iopub.status.busy": "2024-03-13T02:20:30.461858Z",
     "iopub.status.idle": "2024-03-13T02:20:30.468648Z",
     "shell.execute_reply": "2024-03-13T02:20:30.467618Z"
    },
    "papermill": {
     "duration": 0.014582,
     "end_time": "2024-03-13T02:20:30.470848",
     "exception": false,
     "start_time": "2024-03-13T02:20:30.456266",
     "status": "completed"
    },
    "tags": []
   },
   "outputs": [
    {
     "data": {
      "text/plain": [
       "[[0, 0, 0], [0, 0, 0]]"
      ]
     },
     "execution_count": 4,
     "metadata": {},
     "output_type": "execute_result"
    }
   ],
   "source": [
    "#creation of n dimensional matrix\n",
    "[[0 for _ in range(0,3)]for _ in range(0,2)]"
   ]
  },
  {
   "cell_type": "code",
   "execution_count": 5,
   "id": "56cce549",
   "metadata": {
    "execution": {
     "iopub.execute_input": "2024-03-13T02:20:30.481817Z",
     "iopub.status.busy": "2024-03-13T02:20:30.481414Z",
     "iopub.status.idle": "2024-03-13T02:20:30.487227Z",
     "shell.execute_reply": "2024-03-13T02:20:30.485657Z"
    },
    "papermill": {
     "duration": 0.01414,
     "end_time": "2024-03-13T02:20:30.489684",
     "exception": false,
     "start_time": "2024-03-13T02:20:30.475544",
     "status": "completed"
    },
    "tags": []
   },
   "outputs": [
    {
     "name": "stdout",
     "output_type": "stream",
     "text": [
      "manchester United\n"
     ]
    }
   ],
   "source": [
    "#String operations\n",
    "club='manchester United'\n",
    "#Reversal of a string\n",
    "club[::-1]\n",
    "print(club.ljust(12,\"*\"))"
   ]
  },
  {
   "cell_type": "code",
   "execution_count": 6,
   "id": "2cdc5de1",
   "metadata": {
    "execution": {
     "iopub.execute_input": "2024-03-13T02:20:30.500847Z",
     "iopub.status.busy": "2024-03-13T02:20:30.500469Z",
     "iopub.status.idle": "2024-03-13T02:20:30.507016Z",
     "shell.execute_reply": "2024-03-13T02:20:30.506007Z"
    },
    "papermill": {
     "duration": 0.014937,
     "end_time": "2024-03-13T02:20:30.509373",
     "exception": false,
     "start_time": "2024-03-13T02:20:30.494436",
     "status": "completed"
    },
    "tags": []
   },
   "outputs": [
    {
     "data": {
      "text/plain": [
       "'Manchester united'"
      ]
     },
     "execution_count": 6,
     "metadata": {},
     "output_type": "execute_result"
    }
   ],
   "source": [
    "'-----<<<<'.join(clubs)\n",
    "club.capitalize()"
   ]
  },
  {
   "cell_type": "code",
   "execution_count": 7,
   "id": "40386bce",
   "metadata": {
    "execution": {
     "iopub.execute_input": "2024-03-13T02:20:30.521485Z",
     "iopub.status.busy": "2024-03-13T02:20:30.521159Z",
     "iopub.status.idle": "2024-03-13T02:20:30.526264Z",
     "shell.execute_reply": "2024-03-13T02:20:30.525163Z"
    },
    "papermill": {
     "duration": 0.013654,
     "end_time": "2024-03-13T02:20:30.528418",
     "exception": false,
     "start_time": "2024-03-13T02:20:30.514764",
     "status": "completed"
    },
    "tags": []
   },
   "outputs": [],
   "source": [
    "#List operations\n",
    "l=[12,23,45,89,56]\n",
    "l.pop()\n",
    "l.remove(23)\n",
    "l.append(89)\n",
    "l.insert(-2,19)"
   ]
  },
  {
   "cell_type": "code",
   "execution_count": 8,
   "id": "d097606d",
   "metadata": {
    "execution": {
     "iopub.execute_input": "2024-03-13T02:20:30.540826Z",
     "iopub.status.busy": "2024-03-13T02:20:30.540501Z",
     "iopub.status.idle": "2024-03-13T02:20:30.547702Z",
     "shell.execute_reply": "2024-03-13T02:20:30.546709Z"
    },
    "papermill": {
     "duration": 0.016515,
     "end_time": "2024-03-13T02:20:30.550204",
     "exception": false,
     "start_time": "2024-03-13T02:20:30.533689",
     "status": "completed"
    },
    "tags": []
   },
   "outputs": [
    {
     "data": {
      "text/plain": [
       "1"
      ]
     },
     "execution_count": 8,
     "metadata": {},
     "output_type": "execute_result"
    }
   ],
   "source": [
    "#Tuple operations\n",
    "t=(12,34,78)\n",
    "t+=19,\n",
    "min(t)\n",
    "max(t)\n",
    "sum(t)\n",
    "t.index(78)\n",
    "t.count(12)"
   ]
  },
  {
   "cell_type": "code",
   "execution_count": 9,
   "id": "07373120",
   "metadata": {
    "execution": {
     "iopub.execute_input": "2024-03-13T02:20:30.564838Z",
     "iopub.status.busy": "2024-03-13T02:20:30.563362Z",
     "iopub.status.idle": "2024-03-13T02:20:30.570451Z",
     "shell.execute_reply": "2024-03-13T02:20:30.569409Z"
    },
    "papermill": {
     "duration": 0.016899,
     "end_time": "2024-03-13T02:20:30.572544",
     "exception": false,
     "start_time": "2024-03-13T02:20:30.555645",
     "status": "completed"
    },
    "tags": []
   },
   "outputs": [],
   "source": [
    "#Set operations\n",
    "s=set({1,2,2,3,0})\n",
    "s.pop()\n",
    "s.discard(2)\n",
    "#Frozen sets are immutable sets"
   ]
  },
  {
   "cell_type": "code",
   "execution_count": 10,
   "id": "453d9498",
   "metadata": {
    "execution": {
     "iopub.execute_input": "2024-03-13T02:20:30.584960Z",
     "iopub.status.busy": "2024-03-13T02:20:30.584630Z",
     "iopub.status.idle": "2024-03-13T02:20:30.589439Z",
     "shell.execute_reply": "2024-03-13T02:20:30.588436Z"
    },
    "papermill": {
     "duration": 0.013994,
     "end_time": "2024-03-13T02:20:30.591980",
     "exception": false,
     "start_time": "2024-03-13T02:20:30.577986",
     "status": "completed"
    },
    "tags": []
   },
   "outputs": [
    {
     "name": "stdout",
     "output_type": "stream",
     "text": [
      "hello^^^^^"
     ]
    }
   ],
   "source": [
    "print(\"hello\",end='^'*5)"
   ]
  },
  {
   "cell_type": "code",
   "execution_count": 11,
   "id": "c6725b73",
   "metadata": {
    "execution": {
     "iopub.execute_input": "2024-03-13T02:20:30.604871Z",
     "iopub.status.busy": "2024-03-13T02:20:30.604299Z",
     "iopub.status.idle": "2024-03-13T02:20:30.609886Z",
     "shell.execute_reply": "2024-03-13T02:20:30.608838Z"
    },
    "papermill": {
     "duration": 0.014539,
     "end_time": "2024-03-13T02:20:30.612110",
     "exception": true,
     "start_time": "2024-03-13T02:20:30.597571",
     "status": "failed"
    },
    "tags": []
   },
   "outputs": [
    {
     "name": "stderr",
     "output_type": "stream",
     "text": [
      "UsageError: Line magic function `%6s\"%\"four\"` not found.\n"
     ]
    }
   ],
   "source": [
    "#right and left justify\"\n",
    "%6s\"%\"four\"\n",
    "\"%-6s\"%\"four\""
   ]
  }
 ],
 "metadata": {
  "kaggle": {
   "accelerator": "none",
   "dataSources": [
    {
     "datasetId": 4586604,
     "sourceId": 7826944,
     "sourceType": "datasetVersion"
    }
   ],
   "dockerImageVersionId": 30664,
   "isGpuEnabled": false,
   "isInternetEnabled": true,
   "language": "python",
   "sourceType": "notebook"
  },
  "kernelspec": {
   "display_name": "Python 3",
   "language": "python",
   "name": "python3"
  },
  "language_info": {
   "codemirror_mode": {
    "name": "ipython",
    "version": 3
   },
   "file_extension": ".py",
   "mimetype": "text/x-python",
   "name": "python",
   "nbconvert_exporter": "python",
   "pygments_lexer": "ipython3",
   "version": "3.10.13"
  },
  "papermill": {
   "default_parameters": {},
   "duration": 3.460994,
   "end_time": "2024-03-13T02:20:30.937380",
   "environment_variables": {},
   "exception": true,
   "input_path": "__notebook__.ipynb",
   "output_path": "__notebook__.ipynb",
   "parameters": {},
   "start_time": "2024-03-13T02:20:27.476386",
   "version": "2.5.0"
  }
 },
 "nbformat": 4,
 "nbformat_minor": 5
}
